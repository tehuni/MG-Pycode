{
 "cells": [
  {
   "cell_type": "code",
   "execution_count": 2,
   "metadata": {},
   "outputs": [],
   "source": [
    "import numpy as np\n",
    "import pandas\n",
    "from keras.models import Sequential\n",
    "from keras.layers import Dense\n",
    "from keras.wrappers.scikit_learn import KerasRegressor\n",
    "from sklearn.model_selection import cross_val_score\n",
    "from sklearn.model_selection import KFold\n",
    "from sklearn.preprocessing import StandardScaler\n",
    "from sklearn.pipeline import Pipeline\n"
   ]
  },
  {
   "cell_type": "code",
   "execution_count": 3,
   "metadata": {},
   "outputs": [
    {
     "data": {
      "text/html": [
       "<div>\n",
       "<style scoped>\n",
       "    .dataframe tbody tr th:only-of-type {\n",
       "        vertical-align: middle;\n",
       "    }\n",
       "\n",
       "    .dataframe tbody tr th {\n",
       "        vertical-align: top;\n",
       "    }\n",
       "\n",
       "    .dataframe thead th {\n",
       "        text-align: right;\n",
       "    }\n",
       "</style>\n",
       "<table border=\"1\" class=\"dataframe\">\n",
       "  <thead>\n",
       "    <tr style=\"text-align: right;\">\n",
       "      <th></th>\n",
       "      <th>Carbon</th>\n",
       "      <th>Hydrogen</th>\n",
       "      <th>Nitrogen</th>\n",
       "      <th>Sulfur</th>\n",
       "      <th>Oxygen</th>\n",
       "      <th>Ash</th>\n",
       "      <th>Air_MF</th>\n",
       "      <th>Steam_MF</th>\n",
       "      <th>PYROL_T</th>\n",
       "      <th>GASIF_T</th>\n",
       "      <th>Water_WGS</th>\n",
       "      <th>CAOH2</th>\n",
       "      <th>CARBONAT_T</th>\n",
       "      <th>LNG_MF</th>\n",
       "      <th>H2_P</th>\n",
       "      <th>CO2_P</th>\n",
       "      <th>POWER</th>\n",
       "      <th>PCC_P</th>\n",
       "      <th>EXERGY</th>\n",
       "      <th>HHV</th>\n",
       "    </tr>\n",
       "  </thead>\n",
       "  <tbody>\n",
       "    <tr>\n",
       "      <th>0</th>\n",
       "      <td>47.9</td>\n",
       "      <td>6.3</td>\n",
       "      <td>0.32</td>\n",
       "      <td>0.01</td>\n",
       "      <td>44.27</td>\n",
       "      <td>1.2</td>\n",
       "      <td>300</td>\n",
       "      <td>500</td>\n",
       "      <td>640</td>\n",
       "      <td>750</td>\n",
       "      <td>700</td>\n",
       "      <td>1000</td>\n",
       "      <td>310</td>\n",
       "      <td>700</td>\n",
       "      <td>82.575165</td>\n",
       "      <td>382.298959</td>\n",
       "      <td>229.700598</td>\n",
       "      <td>1350.8379</td>\n",
       "      <td>331.935067</td>\n",
       "      <td>9115.993</td>\n",
       "    </tr>\n",
       "    <tr>\n",
       "      <th>1</th>\n",
       "      <td>47.9</td>\n",
       "      <td>6.3</td>\n",
       "      <td>0.32</td>\n",
       "      <td>0.01</td>\n",
       "      <td>44.27</td>\n",
       "      <td>1.2</td>\n",
       "      <td>300</td>\n",
       "      <td>500</td>\n",
       "      <td>640</td>\n",
       "      <td>750</td>\n",
       "      <td>700</td>\n",
       "      <td>1000</td>\n",
       "      <td>310</td>\n",
       "      <td>800</td>\n",
       "      <td>82.575165</td>\n",
       "      <td>437.164581</td>\n",
       "      <td>250.991074</td>\n",
       "      <td>1350.8379</td>\n",
       "      <td>331.935067</td>\n",
       "      <td>9115.993</td>\n",
       "    </tr>\n",
       "    <tr>\n",
       "      <th>2</th>\n",
       "      <td>47.9</td>\n",
       "      <td>6.3</td>\n",
       "      <td>0.32</td>\n",
       "      <td>0.01</td>\n",
       "      <td>44.27</td>\n",
       "      <td>1.2</td>\n",
       "      <td>300</td>\n",
       "      <td>500</td>\n",
       "      <td>640</td>\n",
       "      <td>750</td>\n",
       "      <td>700</td>\n",
       "      <td>1000</td>\n",
       "      <td>310</td>\n",
       "      <td>900</td>\n",
       "      <td>82.575165</td>\n",
       "      <td>492.030203</td>\n",
       "      <td>272.277819</td>\n",
       "      <td>1350.8379</td>\n",
       "      <td>331.935067</td>\n",
       "      <td>9115.993</td>\n",
       "    </tr>\n",
       "    <tr>\n",
       "      <th>3</th>\n",
       "      <td>47.9</td>\n",
       "      <td>6.3</td>\n",
       "      <td>0.32</td>\n",
       "      <td>0.01</td>\n",
       "      <td>44.27</td>\n",
       "      <td>1.2</td>\n",
       "      <td>300</td>\n",
       "      <td>500</td>\n",
       "      <td>640</td>\n",
       "      <td>750</td>\n",
       "      <td>700</td>\n",
       "      <td>1000</td>\n",
       "      <td>310</td>\n",
       "      <td>1000</td>\n",
       "      <td>82.575165</td>\n",
       "      <td>546.895824</td>\n",
       "      <td>293.561646</td>\n",
       "      <td>1350.8379</td>\n",
       "      <td>331.935067</td>\n",
       "      <td>9115.993</td>\n",
       "    </tr>\n",
       "    <tr>\n",
       "      <th>4</th>\n",
       "      <td>47.9</td>\n",
       "      <td>6.3</td>\n",
       "      <td>0.32</td>\n",
       "      <td>0.01</td>\n",
       "      <td>44.27</td>\n",
       "      <td>1.2</td>\n",
       "      <td>300</td>\n",
       "      <td>500</td>\n",
       "      <td>640</td>\n",
       "      <td>750</td>\n",
       "      <td>700</td>\n",
       "      <td>1000</td>\n",
       "      <td>310</td>\n",
       "      <td>1100</td>\n",
       "      <td>82.575165</td>\n",
       "      <td>601.761446</td>\n",
       "      <td>314.843148</td>\n",
       "      <td>1350.8379</td>\n",
       "      <td>331.935067</td>\n",
       "      <td>9115.993</td>\n",
       "    </tr>\n",
       "  </tbody>\n",
       "</table>\n",
       "</div>"
      ],
      "text/plain": [
       "   Carbon  Hydrogen  Nitrogen  Sulfur  Oxygen  Ash  Air_MF  Steam_MF  PYROL_T  \\\n",
       "0    47.9       6.3      0.32    0.01   44.27  1.2     300       500      640   \n",
       "1    47.9       6.3      0.32    0.01   44.27  1.2     300       500      640   \n",
       "2    47.9       6.3      0.32    0.01   44.27  1.2     300       500      640   \n",
       "3    47.9       6.3      0.32    0.01   44.27  1.2     300       500      640   \n",
       "4    47.9       6.3      0.32    0.01   44.27  1.2     300       500      640   \n",
       "\n",
       "   GASIF_T  Water_WGS  CAOH2  CARBONAT_T  LNG_MF       H2_P       CO2_P  \\\n",
       "0      750        700   1000         310     700  82.575165  382.298959   \n",
       "1      750        700   1000         310     800  82.575165  437.164581   \n",
       "2      750        700   1000         310     900  82.575165  492.030203   \n",
       "3      750        700   1000         310    1000  82.575165  546.895824   \n",
       "4      750        700   1000         310    1100  82.575165  601.761446   \n",
       "\n",
       "        POWER      PCC_P      EXERGY       HHV  \n",
       "0  229.700598  1350.8379  331.935067  9115.993  \n",
       "1  250.991074  1350.8379  331.935067  9115.993  \n",
       "2  272.277819  1350.8379  331.935067  9115.993  \n",
       "3  293.561646  1350.8379  331.935067  9115.993  \n",
       "4  314.843148  1350.8379  331.935067  9115.993  "
      ]
     },
     "execution_count": 3,
     "metadata": {},
     "output_type": "execute_result"
    }
   ],
   "source": [
    "from sklearn.preprocessing import StandardScaler\n",
    "sc=StandardScaler()\n",
    "\n",
    "dataset = pandas.read_csv(\"input/DATAA.csv\")\n",
    "dataset.head()"
   ]
  },
  {
   "cell_type": "code",
   "execution_count": 4,
   "metadata": {},
   "outputs": [],
   "source": [
    "from sklearn.model_selection import train_test_split\n",
    "train, test = train_test_split(dataset,test_size=0.3,random_state=40)"
   ]
  },
  {
   "cell_type": "code",
   "execution_count": 5,
   "metadata": {},
   "outputs": [
    {
     "data": {
      "text/plain": [
       "array([[4.79000000e+01, 6.30000000e+00, 3.20000000e-01, ...,\n",
       "        1.35083790e+03, 3.31935067e+02, 9.11599300e+03],\n",
       "       [4.79000000e+01, 6.30000000e+00, 3.20000000e-01, ...,\n",
       "        1.35083790e+03, 3.31935067e+02, 9.11599300e+03],\n",
       "       [4.79000000e+01, 6.30000000e+00, 3.20000000e-01, ...,\n",
       "        1.35083790e+03, 3.31935067e+02, 9.11599300e+03],\n",
       "       ...,\n",
       "       [8.02700000e+01, 7.43000000e+00, 4.60000000e-01, ...,\n",
       "        3.38925228e+03, 7.31382652e+02, 1.20809092e+04],\n",
       "       [8.02700000e+01, 7.43000000e+00, 4.60000000e-01, ...,\n",
       "        3.38925228e+03, 7.31382652e+02, 1.20809092e+04],\n",
       "       [8.02700000e+01, 7.43000000e+00, 4.60000000e-01, ...,\n",
       "        3.38925228e+03, 7.31382652e+02, 1.20809092e+04]])"
      ]
     },
     "execution_count": 5,
     "metadata": {},
     "output_type": "execute_result"
    }
   ],
   "source": [
    "\n",
    "dataset.values\n"
   ]
  },
  {
   "cell_type": "code",
   "execution_count": 6,
   "metadata": {},
   "outputs": [
    {
     "data": {
      "text/plain": [
       "(9811010, 20)"
      ]
     },
     "execution_count": 6,
     "metadata": {},
     "output_type": "execute_result"
    }
   ],
   "source": [
    "train.shape\n"
   ]
  },
  {
   "cell_type": "code",
   "execution_count": 7,
   "metadata": {},
   "outputs": [
    {
     "data": {
      "text/plain": [
       "(4204719, 20)"
      ]
     },
     "execution_count": 7,
     "metadata": {},
     "output_type": "execute_result"
    }
   ],
   "source": [
    "test.shape"
   ]
  },
  {
   "cell_type": "code",
   "execution_count": 8,
   "metadata": {},
   "outputs": [
    {
     "data": {
      "text/plain": [
       "array([2161.34063, 3039.38527, 1307.93023, ..., 2323.44118, 4255.13937,\n",
       "       3025.87689])"
      ]
     },
     "execution_count": 8,
     "metadata": {},
     "output_type": "execute_result"
    }
   ],
   "source": [
    "\n",
    "x=train.values[:,0:14]\n",
    "y=train.values[:,17]\n",
    "x -= np.min(x)\n",
    "x/= (np.max(x) - np.min(x))\n",
    "\n",
    "y"
   ]
  },
  {
   "cell_type": "code",
   "execution_count": 9,
   "metadata": {},
   "outputs": [],
   "source": [
    "model = Sequential()\n",
    "model.add(Dense(13, input_dim=14, kernel_initializer= 'normal' , activation='relu'))\n",
    "model.add(Dense(6, kernel_initializer= 'normal' , activation= 'relu' ))\n",
    "model.add(Dense(1, kernel_initializer= 'normal'))\n",
    "#"
   ]
  },
  {
   "cell_type": "code",
   "execution_count": 10,
   "metadata": {},
   "outputs": [],
   "source": [
    "model.compile(loss= 'mean_squared_error' , optimizer= 'adam')"
   ]
  },
  {
   "cell_type": "code",
   "execution_count": 11,
   "metadata": {},
   "outputs": [
    {
     "name": "stdout",
     "output_type": "stream",
     "text": [
      "Epoch 1/20\n",
      "981101/981101 [==============================] - 873s 889us/step - loss: 26146.9414\n",
      "Epoch 2/20\n",
      "981101/981101 [==============================] - 893s 910us/step - loss: 69.5427\n",
      "Epoch 3/20\n",
      "981101/981101 [==============================] - 890s 907us/step - loss: 68.9984\n",
      "Epoch 4/20\n",
      "981101/981101 [==============================] - 854s 871us/step - loss: 68.7453\n",
      "Epoch 5/20\n",
      "981101/981101 [==============================] - 884s 901us/step - loss: 68.6483\n",
      "Epoch 6/20\n",
      "981101/981101 [==============================] - 890s 907us/step - loss: 68.5908\n",
      "Epoch 7/20\n",
      "981101/981101 [==============================] - 1025s 1ms/step - loss: 68.5801\n",
      "Epoch 8/20\n",
      "981101/981101 [==============================] - 918s 936us/step - loss: 68.5626\n",
      "Epoch 9/20\n",
      "981101/981101 [==============================] - 903s 920us/step - loss: 68.5473\n",
      "Epoch 10/20\n",
      "981101/981101 [==============================] - 950s 968us/step - loss: 68.5541\n",
      "Epoch 11/20\n",
      "981101/981101 [==============================] - 969s 988us/step - loss: 68.5350\n",
      "Epoch 12/20\n",
      "981101/981101 [==============================] - 984s 1ms/step - loss: 68.5349\n",
      "Epoch 13/20\n",
      "981101/981101 [==============================] - 846s 862us/step - loss: 68.5407\n",
      "Epoch 14/20\n",
      "981101/981101 [==============================] - 900s 918us/step - loss: 68.5264\n",
      "Epoch 15/20\n",
      "981101/981101 [==============================] - 854s 871us/step - loss: 68.5352\n",
      "Epoch 16/20\n",
      "981101/981101 [==============================] - 846s 863us/step - loss: 68.5306\n",
      "Epoch 17/20\n",
      "981101/981101 [==============================] - 854s 871us/step - loss: 68.5313\n",
      "Epoch 18/20\n",
      "981101/981101 [==============================] - 866s 882us/step - loss: 68.5252\n",
      "Epoch 19/20\n",
      "981101/981101 [==============================] - 933s 951us/step - loss: 68.5187\n",
      "Epoch 20/20\n",
      "981101/981101 [==============================] - 921s 939us/step - loss: 68.5260\n"
     ]
    },
    {
     "data": {
      "text/plain": [
       "<keras.callbacks.History at 0x1f565a87b50>"
      ]
     },
     "execution_count": 11,
     "metadata": {},
     "output_type": "execute_result"
    }
   ],
   "source": [
    "model.fit(x, y, epochs=20, batch_size=10)"
   ]
  },
  {
   "cell_type": "code",
   "execution_count": 12,
   "metadata": {},
   "outputs": [
    {
     "name": "stdout",
     "output_type": "stream",
     "text": [
      "306595/306595 [==============================] - 303s 988us/step - loss: 71.9998\n",
      "71.99979400634766\n"
     ]
    }
   ],
   "source": [
    "scores = model.evaluate(x, y)\n",
    "print(scores)"
   ]
  },
  {
   "cell_type": "code",
   "execution_count": 18,
   "metadata": {},
   "outputs": [],
   "source": [
    "from sklearn.metrics import r2_score\n",
    "\n",
    "y_pred = model.predict(x)\n",
    "r_squared = r2_score(y, y_pred)\n",
    "adjusted_r_squared = 1 - (1-r_squared)*(len(y)-1)/(len(y)-x.shape[1]-1)"
   ]
  },
  {
   "cell_type": "code",
   "execution_count": 19,
   "metadata": {},
   "outputs": [
    {
     "data": {
      "text/plain": [
       "0.9999266861309831"
      ]
     },
     "execution_count": 19,
     "metadata": {},
     "output_type": "execute_result"
    }
   ],
   "source": [
    "adjusted_r_squared"
   ]
  },
  {
   "cell_type": "code",
   "execution_count": 21,
   "metadata": {},
   "outputs": [
    {
     "data": {
      "text/plain": [
       "0.9999266862355997"
      ]
     },
     "execution_count": 21,
     "metadata": {},
     "output_type": "execute_result"
    }
   ],
   "source": [
    "r_squared"
   ]
  }
 ],
 "metadata": {
  "kernelspec": {
   "display_name": "Python 3.10.6 64-bit",
   "language": "python",
   "name": "python3"
  },
  "language_info": {
   "codemirror_mode": {
    "name": "ipython",
    "version": 3
   },
   "file_extension": ".py",
   "mimetype": "text/x-python",
   "name": "python",
   "nbconvert_exporter": "python",
   "pygments_lexer": "ipython3",
   "version": "3.10.6 (tags/v3.10.6:9c7b4bd, Aug  1 2022, 21:53:49) [MSC v.1932 64 bit (AMD64)]"
  },
  "orig_nbformat": 4,
  "vscode": {
   "interpreter": {
    "hash": "24bf196111cc4e38f345d42d7aa42acfe0df89b8609c1643dd6d70213df8c26d"
   }
  }
 },
 "nbformat": 4,
 "nbformat_minor": 2
}
